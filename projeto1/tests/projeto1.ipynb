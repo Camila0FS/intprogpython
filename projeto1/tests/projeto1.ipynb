{
 "cells": [
  {
   "cell_type": "code",
   "execution_count": 36,
   "id": "21c8060e",
   "metadata": {},
   "outputs": [],
   "source": [
    "import os\n",
    "\n",
    "# Criando diretórios\n",
    "\n",
    "\n",
    "\n",
    "if os.path.exists('documentos') == False:\n",
    "    os.mkdir('documentos')\n",
    "\n",
    "if os.path.exists('planilhas') == False:\n",
    "    os.mkdir('planilhas')\n",
    "\n",
    "      \n",
    "\n"
   ]
  },
  {
   "cell_type": "code",
   "execution_count": 37,
   "id": "0d15eb6d",
   "metadata": {},
   "outputs": [],
   "source": [
    "import shutil\n",
    "import os\n",
    "\n",
    "arquivos = os.listdir()\n",
    "\n",
    "for arquivo in arquivos:\n",
    "    if \".xls\" in arquivo:\n",
    "        shutil.move(arquivo, f\"./planilhas/{arquivo}\")\n",
    "    elif \".doc\" in arquivo:\n",
    "        shutil.move(arquivo, f\"./documentos/{arquivo}\")\n",
    "        \n",
    "        \n",
    "\n",
    "    \n",
    "\n",
    "\n"
   ]
  },
  {
   "cell_type": "code",
   "execution_count": null,
   "id": "a98cf5ef",
   "metadata": {},
   "outputs": [],
   "source": []
  },
  {
   "cell_type": "code",
   "execution_count": null,
   "id": "6b34bd25",
   "metadata": {},
   "outputs": [],
   "source": []
  },
  {
   "cell_type": "code",
   "execution_count": null,
   "id": "2e153bd6",
   "metadata": {},
   "outputs": [],
   "source": []
  }
 ],
 "metadata": {
  "kernelspec": {
   "display_name": "Python 3 (ipykernel)",
   "language": "python",
   "name": "python3"
  },
  "language_info": {
   "codemirror_mode": {
    "name": "ipython",
    "version": 3
   },
   "file_extension": ".py",
   "mimetype": "text/x-python",
   "name": "python",
   "nbconvert_exporter": "python",
   "pygments_lexer": "ipython3",
   "version": "3.9.7"
  }
 },
 "nbformat": 4,
 "nbformat_minor": 5
}
